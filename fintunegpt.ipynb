{
 "cells": [
  {
   "cell_type": "code",
   "execution_count": 4,
   "metadata": {},
   "outputs": [
    {
     "name": "stdout",
     "output_type": "stream",
     "text": [
      "dot_env_file_exist:  True\n"
     ]
    }
   ],
   "source": [
    "import os\n",
    "from os import environ\n",
    "import numpy as np\n",
    "\n",
    "import pandas as pd\n",
    "pd.set_option('display.max_colwidth', 0)\n",
    "\n",
    "# https://pypi.org/project/python-dotenv/\n",
    "from dotenv import load_dotenv, find_dotenv\n",
    "dot_env_file_exist = load_dotenv(find_dotenv()) # read local .env file\n",
    "# Returns true or false if .env exists in current directory\n",
    "print('dot_env_file_exist: ', dot_env_file_exist)\n",
    "\n",
    "import openai\n",
    "import json"
   ]
  },
  {
   "cell_type": "code",
   "execution_count": 6,
   "metadata": {},
   "outputs": [
    {
     "name": "stdout",
     "output_type": "stream",
     "text": [
      "sk-AIpV99p7zCf0nQ0ebo0tT3BlbkFJllwV2ZBKHiiXkeenSGp\n"
     ]
    }
   ],
   "source": [
    "# PYTHON Solution: Read the key directly from the .env file\n",
    "import openai\n",
    "def python_get_dotenv_data(parms):\n",
    "    with open('.env', 'r') as reader:\n",
    "        out = reader.readlines()\n",
    "    for i in parms:\n",
    "        for j in range(len(out)):\n",
    "            ind = out[j].rfind(i)\n",
    "            if ind != -1:\n",
    "                st = ind+(2+len(i))\n",
    "                end = len(out[j]) - 2\n",
    "                globals()[f'{i}'] = out[j][st:end]\n",
    "\n",
    "# Save key as a Python variable\n",
    "parms = ['OPENAI_API_KEY']\n",
    "python_get_dotenv_data(parms)\n",
    "openai.api_key = OPENAI_API_KEY\n",
    "print(openai.api_key)"
   ]
  },
  {
   "cell_type": "code",
   "execution_count": 7,
   "metadata": {},
   "outputs": [],
   "source": [
    "# Define the client\n",
    "from openai import OpenAI\n",
    "import openai\n",
    "client = openai.api_key"
   ]
  },
  {
   "cell_type": "code",
   "execution_count": 15,
   "metadata": {},
   "outputs": [],
   "source": [
    "# Starten des Upload-Prozess Training-Daten\n",
    "import openai\n",
    "client = OpenAI()\n",
    "\n",
    "my_training_data = client.files.create(\n",
    "    file=open(\"data/training_test_set.jsonl\", \"rb\"),\n",
    "    purpose='fine-tune'\n",
    ")"
   ]
  },
  {
   "cell_type": "code",
   "execution_count": 17,
   "metadata": {},
   "outputs": [
    {
     "name": "stdout",
     "output_type": "stream",
     "text": [
      "file-yJYIO2sHWmrGWGYhKoJTUGI9\n"
     ]
    }
   ],
   "source": [
    "print(my_training_data.id)"
   ]
  },
  {
   "cell_type": "code",
   "execution_count": 19,
   "metadata": {},
   "outputs": [],
   "source": [
    "# Starten des Upload-Prozess Validierung-Daten\n",
    "import openai\n",
    "client = OpenAI()\n",
    "\n",
    "my_eval_data = client.files.create(\n",
    "    file=open(\"data/validation_test_set.jsonl\", \"rb\"),\n",
    "    purpose='fine-tune'\n",
    ")"
   ]
  },
  {
   "cell_type": "code",
   "execution_count": 20,
   "metadata": {},
   "outputs": [
    {
     "name": "stdout",
     "output_type": "stream",
     "text": [
      "file-FEfZVH9BPHodBaQLXQsYTo0Z\n"
     ]
    }
   ],
   "source": [
    "print(my_eval_data.id)"
   ]
  },
  {
   "cell_type": "code",
   "execution_count": 21,
   "metadata": {},
   "outputs": [
    {
     "data": {
      "text/plain": [
       "FineTuningJob(id='ftjob-ZdaAd5mj3iHHbZ9FXiUVoNo4', created_at=1711979551, error=Error(code=None, message=None, param=None, error=None), fine_tuned_model=None, finished_at=None, hyperparameters=Hyperparameters(n_epochs='auto', batch_size='auto', learning_rate_multiplier='auto'), model='gpt-3.5-turbo-0125', object='fine_tuning.job', organization_id='org-4iR8mcaw4LEVCNvoGGcPHEEv', result_files=[], status='validating_files', trained_tokens=None, training_file='file-yJYIO2sHWmrGWGYhKoJTUGI9', validation_file='file-FEfZVH9BPHodBaQLXQsYTo0Z', user_provided_suffix=None)"
      ]
     },
     "execution_count": 21,
     "metadata": {},
     "output_type": "execute_result"
    }
   ],
   "source": [
    "# Start das Finetuning\n",
    "from openai import OpenAI\n",
    "client = OpenAI()\n",
    "\n",
    "response= client.fine_tuning.jobs.create(\n",
    "  training_file=my_training_data.id,\n",
    "  validation_file=my_eval_data.id,\n",
    "  model=\"gpt-3.5-turbo\"\n",
    ")\n",
    "\n",
    "response"
   ]
  },
  {
   "cell_type": "code",
   "execution_count": 22,
   "metadata": {},
   "outputs": [
    {
     "data": {
      "text/plain": [
       "'ftjob-ZdaAd5mj3iHHbZ9FXiUVoNo4'"
      ]
     },
     "execution_count": 22,
     "metadata": {},
     "output_type": "execute_result"
    }
   ],
   "source": [
    "job_id = response.id\n",
    "job_id"
   ]
  },
  {
   "cell_type": "code",
   "execution_count": 26,
   "metadata": {},
   "outputs": [
    {
     "data": {
      "text/plain": [
       "FineTuningJob(id='ftjob-ZdaAd5mj3iHHbZ9FXiUVoNo4', created_at=1711979551, error=Error(code=None, message=None, param=None, error=None), fine_tuned_model='ft:gpt-3.5-turbo-0125:christian-kolb::99CSQB6v', finished_at=1711979865, hyperparameters=Hyperparameters(n_epochs=10, batch_size=1, learning_rate_multiplier=2), model='gpt-3.5-turbo-0125', object='fine_tuning.job', organization_id='org-4iR8mcaw4LEVCNvoGGcPHEEv', result_files=['file-dUFLE9R4x9iY9PdGSrLOW1TI'], status='succeeded', trained_tokens=5470, training_file='file-yJYIO2sHWmrGWGYhKoJTUGI9', validation_file='file-FEfZVH9BPHodBaQLXQsYTo0Z', user_provided_suffix=None)"
      ]
     },
     "execution_count": 26,
     "metadata": {},
     "output_type": "execute_result"
    }
   ],
   "source": [
    "# Zeige den Status des Fine-Tuning an\n",
    "the_job = client.fine_tuning.jobs.retrieve(job_id)\n",
    "the_job"
   ]
  },
  {
   "cell_type": "code",
   "execution_count": 27,
   "metadata": {},
   "outputs": [
    {
     "name": "stdout",
     "output_type": "stream",
     "text": [
      "Job ID:  ftjob-ZdaAd5mj3iHHbZ9FXiUVoNo4\n",
      "Job Status:  succeeded\n",
      "Die trainierten Tokens:  5470\n",
      "Name des neuen Fintuned Modells:  ft:gpt-3.5-turbo-0125:christian-kolb::99CSQB6v\n"
     ]
    }
   ],
   "source": [
    "# Zeig die Job ID\n",
    "print(\"Job ID: \", the_job.id)\n",
    "#Zeig den Status des Jobs\n",
    "print(\"Job Status: \", the_job.status)\n",
    "# Zeig die Anzahl der trainierten Tokens an\n",
    "print(\"Die trainierten Tokens: \", the_job.trained_tokens)\n",
    "# Zeige den Namen von dem neuen Fintuned Modell an\n",
    "print(\"Name des neuen Fintuned Modells: \", the_job.fine_tuned_model)"
   ]
  },
  {
   "cell_type": "markdown",
   "metadata": {},
   "source": [
    "Nützliche Codes"
   ]
  },
  {
   "cell_type": "code",
   "execution_count": null,
   "metadata": {},
   "outputs": [],
   "source": [
    "#Stoppe einen Job\n",
    "client.fine_tuning.jobs.cancel (\"ftjob-abc1223\")\n",
    "\n",
    "#Lösche eine finetuned Modell\n",
    "client.models.delete (\"ftmodel-abc1223\")"
   ]
  },
  {
   "cell_type": "markdown",
   "metadata": {},
   "source": [
    "Teste das neue Model"
   ]
  },
  {
   "cell_type": "code",
   "execution_count": null,
   "metadata": {},
   "outputs": [],
   "source": [
    "def test_new_model(prompt):\n",
    "    #Stelle einer Antwort von dem Modell\n",
    "    response = client.chat.completions.create(\n",
    "        model=\"ft:gpt-3.5-turbo-0125:christian-kolb::99CSQB6v\",\n",
    "        messages=[\n",
    "            {\n",
    "                \"role\": \"system\", \"content\": \"Clippy, the witty chatbot, blending facts with a touch of sarcasm.\"\n",
    "                \"role\": \"user\", \"content\": prompt\n",
    "                }\n",
    "        ]\n",
    "    )"
   ]
  },
  {
   "cell_type": "code",
   "execution_count": null,
   "metadata": {},
   "outputs": [],
   "source": []
  },
  {
   "cell_type": "code",
   "execution_count": null,
   "metadata": {},
   "outputs": [],
   "source": [
    "#Cancel a Job\n",
    "client.fine_tuning.jobs.cancel(\"job_123\")\n",
    "\n",
    "#Lösche a Fine.tuned Model\n",
    "client.models.delete(\"ft:model_name\")"
   ]
  }
 ],
 "metadata": {
  "kernelspec": {
   "display_name": "myenv",
   "language": "python",
   "name": "python3"
  },
  "language_info": {
   "codemirror_mode": {
    "name": "ipython",
    "version": 3
   },
   "file_extension": ".py",
   "mimetype": "text/x-python",
   "name": "python",
   "nbconvert_exporter": "python",
   "pygments_lexer": "ipython3",
   "version": "3.12.0"
  }
 },
 "nbformat": 4,
 "nbformat_minor": 2
}
