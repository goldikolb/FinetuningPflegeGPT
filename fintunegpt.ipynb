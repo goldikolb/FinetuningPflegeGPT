{
 "cells": [
  {
   "cell_type": "markdown",
   "metadata": {},
   "source": [
    "Prüfen ob .env existiert"
   ]
  },
  {
   "cell_type": "code",
   "execution_count": null,
   "metadata": {},
   "outputs": [],
   "source": [
    "from dotenv import load_dotenv, find_dotenv\n",
    "\n",
    "import pandas as pd\n",
    "pd.set_option('display.max_colwidth', 0)\n",
    "\n",
    "dot_env_file_exist = load_dotenv(find_dotenv()) # read local .env file\n",
    "# Returns true or false if .env exists in current directory\n",
    "print('dot_env_file_exist: ', dot_env_file_exist)\n"
   ]
  },
  {
   "cell_type": "markdown",
   "metadata": {},
   "source": [
    "Inhalt der .env anzeigen"
   ]
  },
  {
   "cell_type": "code",
   "execution_count": null,
   "metadata": {},
   "outputs": [],
   "source": [
    "# Pfad zur .env-Datei\n",
    "env_file_path = '.env'\n",
    "\n",
    "# Datei öffnen und Inhalt lesen\n",
    "with open(env_file_path, 'r') as file:\n",
    "    env_content = file.read()\n",
    "\n",
    "# Inhalt der .env-Datei ausgeben\n",
    "print(env_content)\n"
   ]
  },
  {
   "cell_type": "markdown",
   "metadata": {},
   "source": [
    "Alten API-Key in der Standardbibliothek löschen"
   ]
  },
  {
   "cell_type": "code",
   "execution_count": null,
   "metadata": {},
   "outputs": [],
   "source": [
    "import os\n",
    "\n",
    "# Annahme, dass 'OPENAI_API_KEY' bereits als Umgebungsvariable gesetzt ist\n",
    "key = 'OPENAI_API_KEY'\n",
    "\n",
    "# Überprüfen, ob die Umgebungsvariable existiert und sie dann löschen\n",
    "if key in os.environ:\n",
    "    del os.environ[key]\n",
    "    print(f\"{key} wurde erfolgreich gelöscht.\")\n",
    "else:\n",
    "    print(f\"{key} ist nicht in den Umgebungsvariablen vorhanden.\")\n"
   ]
  },
  {
   "cell_type": "markdown",
   "metadata": {},
   "source": [
    "Lade den API-Key und speicher ihn als Variable"
   ]
  },
  {
   "cell_type": "code",
   "execution_count": 8,
   "metadata": {},
   "outputs": [],
   "source": [
    "from dotenv import load_dotenv\n",
    "import os\n",
    "\n",
    "# Lade die Umgebungsvariablen aus der .env-Datei\n",
    "load_dotenv()\n",
    "\n",
    "# Speichere den OpenAI API-Key als Variable\n",
    "openai_api_key = os.getenv('OPENAI_API_KEY')"
   ]
  },
  {
   "cell_type": "code",
   "execution_count": 52,
   "metadata": {},
   "outputs": [],
   "source": [
    "# Define the client\n",
    "#from openai import OpenAI\n",
    "\n",
    "#client = openai.api_key"
   ]
  },
  {
   "cell_type": "markdown",
   "metadata": {},
   "source": [
    "Starte das Fine-Tuning"
   ]
  },
  {
   "cell_type": "code",
   "execution_count": 9,
   "metadata": {},
   "outputs": [],
   "source": [
    "# Starten des Upload-Prozess Training-Daten\n",
    "from openai import OpenAI\n",
    "client = OpenAI()\n",
    "\n",
    "my_training_data = client.files.create(\n",
    "    file=open(\"deine Trainingsdaten\", \"rb\"),\n",
    "    purpose='fine-tune'\n",
    ")"
   ]
  },
  {
   "cell_type": "code",
   "execution_count": null,
   "metadata": {},
   "outputs": [],
   "source": [
    "print(my_training_data.id)"
   ]
  },
  {
   "cell_type": "code",
   "execution_count": 11,
   "metadata": {},
   "outputs": [],
   "source": [
    "# Starten des Upload-Prozess Validierung-Daten\n",
    "from openai import OpenAI\n",
    "client = OpenAI()\n",
    "\n",
    "my_eval_data = client.files.create(\n",
    "    file=open(\"deine Validierungsdaten\", \"rb\"),\n",
    "    purpose='fine-tune'\n",
    ")"
   ]
  },
  {
   "cell_type": "code",
   "execution_count": null,
   "metadata": {},
   "outputs": [],
   "source": [
    "print(my_eval_data.id)"
   ]
  },
  {
   "cell_type": "code",
   "execution_count": null,
   "metadata": {},
   "outputs": [],
   "source": [
    "# Start das Finetuning\n",
    "from openai import OpenAI\n",
    "client = OpenAI()\n",
    "\n",
    "response= client.fine_tuning.jobs.create(\n",
    "  training_file=my_training_data.id,\n",
    "  validation_file=my_eval_data.id,\n",
    "  model=\"Das zu trainierte Modell\"\n",
    ")\n",
    "\n",
    "response"
   ]
  },
  {
   "cell_type": "code",
   "execution_count": null,
   "metadata": {},
   "outputs": [],
   "source": [
    "job_id = response.id\n",
    "job_id"
   ]
  },
  {
   "cell_type": "code",
   "execution_count": null,
   "metadata": {},
   "outputs": [],
   "source": [
    "# Zeige den Status des Fine-Tuning an\n",
    "the_job = client.fine_tuning.jobs.retrieve(job_id)\n",
    "the_job"
   ]
  },
  {
   "cell_type": "code",
   "execution_count": null,
   "metadata": {},
   "outputs": [],
   "source": [
    "# Zeig die Job ID\n",
    "print(\"Job ID: \", the_job.id)\n",
    "#Zeig den Status des Jobs\n",
    "print(\"Job Status: \", the_job.status)\n",
    "# Zeig die Anzahl der trainierten Tokens an\n",
    "print(\"Die trainierten Tokens: \", the_job.trained_tokens)\n",
    "# Zeige den Namen von dem neuen Fintuned Modell an\n",
    "print(\"Name des neuen Fintuned Modells: \", the_job.fine_tuned_model)"
   ]
  },
  {
   "cell_type": "markdown",
   "metadata": {},
   "source": [
    "Nützliche Codes"
   ]
  },
  {
   "cell_type": "code",
   "execution_count": null,
   "metadata": {},
   "outputs": [],
   "source": [
    "#Stoppe einen Job\n",
    "#client.fine_tuning.jobs.cancel (\"ftjob-RqRQN9SRbgcKuYsCxYcnVZ7D\")\n",
    "\n",
    "#Lösche eine finetuned Modell\n",
    "#client.models.delete (\"ft:gpt-3.5-turbo-0125:christian-kolb::99CSQB6v\")"
   ]
  },
  {
   "cell_type": "markdown",
   "metadata": {},
   "source": [
    "Teste das neue Model"
   ]
  },
  {
   "cell_type": "code",
   "execution_count": 30,
   "metadata": {},
   "outputs": [],
   "source": [
    "def test_new_model(prompt):\n",
    "    #Stelle einer Antwort von dem Modell\n",
    "    response = client.chat.completions.create(\n",
    "        model=\"ft:gpt-3.5-turbo-0125:christian-kolb::99wANNfX\",\n",
    "        temperature=0.0,\n",
    "        messages= [\n",
    "            {\n",
    "                \"role\": \"system\", \"content\": \"Du bist eine erfahrene Pflegefachkraft und ausgebildeter Pflegegutachter und  Experte für die Pflegebegutachtung in Deutschland. Du bist spezialisiert auf die Erstellung detaillierter und plausibler Pflegegutachten nach den Begutachtungsrichtlinien (BRi).\",\n",
    "                \"role\": \"user\", \"content\": prompt\n",
    "                }\n",
    "        ]\n",
    "    )\n",
    "    #Gibt die Antwort aus\n",
    "    print(response.choices[0].message.content)"
   ]
  },
  {
   "cell_type": "markdown",
   "metadata": {},
   "source": [
    "Bei Standardeinstellung der Temperature kann es falsche Antworten geben."
   ]
  },
  {
   "cell_type": "code",
   "execution_count": null,
   "metadata": {},
   "outputs": [],
   "source": [
    "test_new_model(\"Wie viele Punkte werden nach den BRi für den notwendigen Hilfebedarf 'selbständig' vergeben?\")"
   ]
  },
  {
   "cell_type": "code",
   "execution_count": null,
   "metadata": {},
   "outputs": [],
   "source": [
    "test_new_model(\"Einschätzung zu Kriterium 5 in Modul 1 (Mobilität) der BRi; Eine Person sagt auf die Frage, ob er Treppensteigen kann: Ich schaffe es nur noch mit Hilfe die 2 Stufen vor meiner Haustüre zu bewältigen. Eine ganze Etage schaffe ich nicht mehr, selbst nicht, wenn jemand mich hält.\")"
   ]
  },
  {
   "cell_type": "code",
   "execution_count": null,
   "metadata": {},
   "outputs": [],
   "source": [
    "test_new_model(\"Wie ist es zu werten, wenn eine Person regelmäßig, also mindestens 1x die Woche und auf die Dauer von 6 Monate Hilfe benötigt, aber unterschiedlich im Wochenverlauf?\")"
   ]
  },
  {
   "cell_type": "code",
   "execution_count": null,
   "metadata": {},
   "outputs": [],
   "source": [
    "test_new_model(\"Das unmittelbare Zurechtlegen, Richten von Utensilien wird mit 'überwiegend selbständig' gewertet. Was ist laut den BRi damit gemeint?\")"
   ]
  },
  {
   "cell_type": "code",
   "execution_count": null,
   "metadata": {},
   "outputs": [],
   "source": [
    "test_new_model(\"Die Anwesenheit aus Sicherheitsgründen wird mit 'überwiegend selbständig' gewertet. Was ist laut den BRi damit gemeint?\")"
   ]
  },
  {
   "cell_type": "markdown",
   "metadata": {},
   "source": [
    "Weitere nützliche Codes"
   ]
  },
  {
   "cell_type": "code",
   "execution_count": null,
   "metadata": {},
   "outputs": [],
   "source": [
    "#Cancel a Job\n",
    "client.fine_tuning.jobs.cancel(\"job_123\")\n",
    "\n",
    "#Lösche a Fine.tuned Model\n",
    "client.models.delete(\"ft:model_name\")"
   ]
  }
 ],
 "metadata": {
  "kernelspec": {
   "display_name": "myenv",
   "language": "python",
   "name": "python3"
  },
  "language_info": {
   "codemirror_mode": {
    "name": "ipython",
    "version": 3
   },
   "file_extension": ".py",
   "mimetype": "text/x-python",
   "name": "python",
   "nbconvert_exporter": "python",
   "pygments_lexer": "ipython3",
   "version": "3.12.0"
  }
 },
 "nbformat": 4,
 "nbformat_minor": 2
}
