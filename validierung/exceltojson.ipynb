{
 "cells": [
  {
   "cell_type": "code",
   "execution_count": 1,
   "metadata": {},
   "outputs": [],
   "source": [
    "import openpyxl\n",
    "import json"
   ]
  },
  {
   "cell_type": "code",
   "execution_count": 3,
   "metadata": {},
   "outputs": [],
   "source": [
    "# Load the workbook Achtung: der formatted csv-File muss voher einmal, z.B. in Google Sheet \n",
    "# hochgeladen werden und in einen echten xlxs File umgewandelt werden\n",
    "\n",
    "workbook = openpyxl.load_workbook('deine Daten die umgewandelt werden sollen.xlsx')"
   ]
  },
  {
   "cell_type": "code",
   "execution_count": 4,
   "metadata": {},
   "outputs": [],
   "source": [
    "# Select the first sheet\n",
    "sheet = workbook.worksheets[0]"
   ]
  },
  {
   "cell_type": "markdown",
   "metadata": {},
   "source": [
    "Erstelle vorher einen Ordner \"output\", in dem dein fertiger JSON-File gespeichert werden soll."
   ]
  },
  {
   "cell_type": "code",
   "execution_count": 8,
   "metadata": {},
   "outputs": [],
   "source": [
    "# Open a file to write the data in JSON format\n",
    "with open('outputs/trainingsdaten_modul1.jsonl', 'w') as f:\n",
    "    # Iterate over the rows in the sheet\n",
    "    for row in sheet.iter_rows(values_only=True):\n",
    "        # Vorbereiten der Datenstruktur für JSON\n",
    "        data = {\n",
    "            \"messages\": [\n",
    "                {\"role\": \"system\", \"content\": row[0]},\n",
    "                {\"role\": \"user\", \"content\": row[1]},\n",
    "                {\"role\": \"assistant\", \"content\": row[2]}\n",
    "            ]\n",
    "        }\n",
    "        # Konvertiere das Python-Objekt in einen JSON-String und schreibe es in die Datei\n",
    "        f.write(json.dumps(data) + '\\n')\n"
   ]
  }
 ],
 "metadata": {
  "kernelspec": {
   "display_name": "myenv",
   "language": "python",
   "name": "python3"
  },
  "language_info": {
   "codemirror_mode": {
    "name": "ipython",
    "version": 3
   },
   "file_extension": ".py",
   "mimetype": "text/x-python",
   "name": "python",
   "nbconvert_exporter": "python",
   "pygments_lexer": "ipython3",
   "version": "3.12.0"
  }
 },
 "nbformat": 4,
 "nbformat_minor": 2
}
